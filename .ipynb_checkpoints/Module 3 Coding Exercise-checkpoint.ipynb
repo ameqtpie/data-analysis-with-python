{
 "cells": [
  {
   "cell_type": "markdown",
   "metadata": {},
   "source": [
    "## Coding Exercise"
   ]
  },
  {
   "cell_type": "code",
   "execution_count": 14,
   "metadata": {},
   "outputs": [
    {
     "name": "stdout",
     "output_type": "stream",
     "text": [
      "0         E.L. James\n",
      "1    Suzanne Collins\n",
      "2       J.K. Rowling\n",
      "3          Dan Brown\n",
      "dtype: object\n",
      "0    410\n",
      "1    211\n",
      "2    314\n",
      "3    178\n",
      "dtype: int64\n"
     ]
    }
   ],
   "source": [
    "import pandas as pd\n",
    "\n",
    "author = ['E.L. James', 'Suzanne Collins', 'J.K. Rowling', 'Dan Brown']\n",
    "reviews = [410, 211, 314, 178]\n",
    "\n",
    "auth_series = pd.Series(author)\n",
    "rev_series = pd.Series(reviews)\n",
    "\n",
    "print(auth_series)\n",
    "print(rev_series)\n",
    "\n"
   ]
  },
  {
   "cell_type": "code",
   "execution_count": 15,
   "metadata": {},
   "outputs": [
    {
     "data": {
      "text/html": [
       "<div>\n",
       "<style scoped>\n",
       "    .dataframe tbody tr th:only-of-type {\n",
       "        vertical-align: middle;\n",
       "    }\n",
       "\n",
       "    .dataframe tbody tr th {\n",
       "        vertical-align: top;\n",
       "    }\n",
       "\n",
       "    .dataframe thead th {\n",
       "        text-align: right;\n",
       "    }\n",
       "</style>\n",
       "<table border=\"1\" class=\"dataframe\">\n",
       "  <thead>\n",
       "    <tr style=\"text-align: right;\">\n",
       "      <th></th>\n",
       "      <th>Author</th>\n",
       "      <th>Reviews</th>\n",
       "    </tr>\n",
       "  </thead>\n",
       "  <tbody>\n",
       "    <tr>\n",
       "      <th>0</th>\n",
       "      <td>E.L. James</td>\n",
       "      <td>410</td>\n",
       "    </tr>\n",
       "    <tr>\n",
       "      <th>1</th>\n",
       "      <td>Suzanne Collins</td>\n",
       "      <td>211</td>\n",
       "    </tr>\n",
       "    <tr>\n",
       "      <th>2</th>\n",
       "      <td>J.K. Rowling</td>\n",
       "      <td>314</td>\n",
       "    </tr>\n",
       "    <tr>\n",
       "      <th>3</th>\n",
       "      <td>Dan Brown</td>\n",
       "      <td>178</td>\n",
       "    </tr>\n",
       "  </tbody>\n",
       "</table>\n",
       "</div>"
      ],
      "text/plain": [
       "            Author  Reviews\n",
       "0       E.L. James      410\n",
       "1  Suzanne Collins      211\n",
       "2     J.K. Rowling      314\n",
       "3        Dan Brown      178"
      ]
     },
     "execution_count": 15,
     "metadata": {},
     "output_type": "execute_result"
    }
   ],
   "source": [
    "combi_series = {\n",
    "    'Author': auth_series,\n",
    "    'Reviews': rev_series\n",
    "}\n",
    "\n",
    "df = pd.DataFrame(combi_series)\n",
    "df\n"
   ]
  },
  {
   "cell_type": "code",
   "execution_count": 16,
   "metadata": {},
   "outputs": [
    {
     "data": {
      "text/html": [
       "<div>\n",
       "<style scoped>\n",
       "    .dataframe tbody tr th:only-of-type {\n",
       "        vertical-align: middle;\n",
       "    }\n",
       "\n",
       "    .dataframe tbody tr th {\n",
       "        vertical-align: top;\n",
       "    }\n",
       "\n",
       "    .dataframe thead th {\n",
       "        text-align: right;\n",
       "    }\n",
       "</style>\n",
       "<table border=\"1\" class=\"dataframe\">\n",
       "  <thead>\n",
       "    <tr style=\"text-align: right;\">\n",
       "      <th></th>\n",
       "      <th>Name</th>\n",
       "      <th>Author</th>\n",
       "      <th>User Rating</th>\n",
       "      <th>Reviews</th>\n",
       "      <th>Price</th>\n",
       "      <th>Year</th>\n",
       "      <th>Genre</th>\n",
       "      <th>Type</th>\n",
       "    </tr>\n",
       "  </thead>\n",
       "  <tbody>\n",
       "    <tr>\n",
       "      <th>0</th>\n",
       "      <td>10-Day Green Smoothie Cleanse</td>\n",
       "      <td>JJ Smith</td>\n",
       "      <td>4.7</td>\n",
       "      <td>17350.0</td>\n",
       "      <td>8.0</td>\n",
       "      <td>2016.0</td>\n",
       "      <td>Non Fiction</td>\n",
       "      <td>Non Fiction</td>\n",
       "    </tr>\n",
       "    <tr>\n",
       "      <th>1</th>\n",
       "      <td>NaN</td>\n",
       "      <td>NaN</td>\n",
       "      <td>NaN</td>\n",
       "      <td>NaN</td>\n",
       "      <td>NaN</td>\n",
       "      <td>NaN</td>\n",
       "      <td>NaN</td>\n",
       "      <td>NaN</td>\n",
       "    </tr>\n",
       "    <tr>\n",
       "      <th>2</th>\n",
       "      <td>11/22/63: A Novel</td>\n",
       "      <td>Stephen King</td>\n",
       "      <td>4.6</td>\n",
       "      <td>2052.0</td>\n",
       "      <td>22.0</td>\n",
       "      <td>2011.0</td>\n",
       "      <td>Fiction</td>\n",
       "      <td>Fiction</td>\n",
       "    </tr>\n",
       "    <tr>\n",
       "      <th>3</th>\n",
       "      <td>12 Rules for Life: An Antidote to Chaos</td>\n",
       "      <td>Jordan B. Peterson</td>\n",
       "      <td>4.7</td>\n",
       "      <td>18979.0</td>\n",
       "      <td>15.0</td>\n",
       "      <td>2018.0</td>\n",
       "      <td>Non Fiction</td>\n",
       "      <td>Non Fiction</td>\n",
       "    </tr>\n",
       "    <tr>\n",
       "      <th>4</th>\n",
       "      <td>1984 (Signet Classics)</td>\n",
       "      <td>George Orwell</td>\n",
       "      <td>4.7</td>\n",
       "      <td>21424.0</td>\n",
       "      <td>6.0</td>\n",
       "      <td>2017.0</td>\n",
       "      <td>Fiction</td>\n",
       "      <td>Fiction</td>\n",
       "    </tr>\n",
       "    <tr>\n",
       "      <th>5</th>\n",
       "      <td>5,000 Awesome Facts (About Everything!) (Natio...</td>\n",
       "      <td>National Geographic Kids</td>\n",
       "      <td>4.8</td>\n",
       "      <td>7665.0</td>\n",
       "      <td>12.0</td>\n",
       "      <td>2019.0</td>\n",
       "      <td>Non Fiction</td>\n",
       "      <td>Non Fiction</td>\n",
       "    </tr>\n",
       "    <tr>\n",
       "      <th>6</th>\n",
       "      <td>A Dance with Dragons (A Song of Ice and Fire)</td>\n",
       "      <td>George R. R. Martin</td>\n",
       "      <td>4.4</td>\n",
       "      <td>12643.0</td>\n",
       "      <td>11.0</td>\n",
       "      <td>2011.0</td>\n",
       "      <td>Fiction</td>\n",
       "      <td>Fiction</td>\n",
       "    </tr>\n",
       "    <tr>\n",
       "      <th>7</th>\n",
       "      <td>A Game of Thrones / A Clash of Kings / A Storm...</td>\n",
       "      <td>George R. R. Martin</td>\n",
       "      <td>4.7</td>\n",
       "      <td>19735.0</td>\n",
       "      <td>30.0</td>\n",
       "      <td>2014.0</td>\n",
       "      <td>Fiction</td>\n",
       "      <td>Fiction</td>\n",
       "    </tr>\n",
       "    <tr>\n",
       "      <th>8</th>\n",
       "      <td>A Gentleman in Moscow: A Novel</td>\n",
       "      <td>Amor Towles</td>\n",
       "      <td>4.7</td>\n",
       "      <td>19699.0</td>\n",
       "      <td>15.0</td>\n",
       "      <td>2017.0</td>\n",
       "      <td>Fiction</td>\n",
       "      <td>Fiction</td>\n",
       "    </tr>\n",
       "    <tr>\n",
       "      <th>9</th>\n",
       "      <td>A Higher Loyalty: Truth, Lies, and Leadership</td>\n",
       "      <td>James Comey</td>\n",
       "      <td>4.7</td>\n",
       "      <td>5983.0</td>\n",
       "      <td>3.0</td>\n",
       "      <td>2018.0</td>\n",
       "      <td>Non Fiction</td>\n",
       "      <td>Non Fiction</td>\n",
       "    </tr>\n",
       "  </tbody>\n",
       "</table>\n",
       "</div>"
      ],
      "text/plain": [
       "                                                Name  \\\n",
       "0                      10-Day Green Smoothie Cleanse   \n",
       "1                                                NaN   \n",
       "2                                  11/22/63: A Novel   \n",
       "3            12 Rules for Life: An Antidote to Chaos   \n",
       "4                             1984 (Signet Classics)   \n",
       "5  5,000 Awesome Facts (About Everything!) (Natio...   \n",
       "6      A Dance with Dragons (A Song of Ice and Fire)   \n",
       "7  A Game of Thrones / A Clash of Kings / A Storm...   \n",
       "8                     A Gentleman in Moscow: A Novel   \n",
       "9      A Higher Loyalty: Truth, Lies, and Leadership   \n",
       "\n",
       "                     Author  User Rating  Reviews  Price    Year        Genre  \\\n",
       "0                  JJ Smith          4.7  17350.0    8.0  2016.0  Non Fiction   \n",
       "1                       NaN          NaN      NaN    NaN     NaN          NaN   \n",
       "2              Stephen King          4.6   2052.0   22.0  2011.0      Fiction   \n",
       "3        Jordan B. Peterson          4.7  18979.0   15.0  2018.0  Non Fiction   \n",
       "4             George Orwell          4.7  21424.0    6.0  2017.0      Fiction   \n",
       "5  National Geographic Kids          4.8   7665.0   12.0  2019.0  Non Fiction   \n",
       "6       George R. R. Martin          4.4  12643.0   11.0  2011.0      Fiction   \n",
       "7       George R. R. Martin          4.7  19735.0   30.0  2014.0      Fiction   \n",
       "8               Amor Towles          4.7  19699.0   15.0  2017.0      Fiction   \n",
       "9               James Comey          4.7   5983.0    3.0  2018.0  Non Fiction   \n",
       "\n",
       "          Type  \n",
       "0  Non Fiction  \n",
       "1          NaN  \n",
       "2      Fiction  \n",
       "3  Non Fiction  \n",
       "4      Fiction  \n",
       "5  Non Fiction  \n",
       "6      Fiction  \n",
       "7      Fiction  \n",
       "8      Fiction  \n",
       "9  Non Fiction  "
      ]
     },
     "execution_count": 16,
     "metadata": {},
     "output_type": "execute_result"
    }
   ],
   "source": [
    "best = pd.read_csv('bestsellers.csv')\n",
    "best.head(10)"
   ]
  },
  {
   "cell_type": "code",
   "execution_count": 17,
   "metadata": {},
   "outputs": [
    {
     "name": "stdout",
     "output_type": "stream",
     "text": [
      "<class 'pandas.core.frame.DataFrame'>\n",
      "RangeIndex: 375 entries, 0 to 374\n",
      "Data columns (total 8 columns):\n",
      " #   Column       Non-Null Count  Dtype  \n",
      "---  ------       --------------  -----  \n",
      " 0   Name         347 non-null    object \n",
      " 1   Author       347 non-null    object \n",
      " 2   User Rating  347 non-null    float64\n",
      " 3   Reviews      347 non-null    float64\n",
      " 4   Price        347 non-null    float64\n",
      " 5   Year         347 non-null    float64\n",
      " 6   Genre        347 non-null    object \n",
      " 7   Type         347 non-null    object \n",
      "dtypes: float64(4), object(4)\n",
      "memory usage: 23.6+ KB\n"
     ]
    }
   ],
   "source": [
    "best.info()"
   ]
  },
  {
   "cell_type": "code",
   "execution_count": 18,
   "metadata": {},
   "outputs": [
    {
     "data": {
      "text/plain": [
       "(375, 8)"
      ]
     },
     "execution_count": 18,
     "metadata": {},
     "output_type": "execute_result"
    }
   ],
   "source": [
    "best.shape\n"
   ]
  }
 ],
 "metadata": {
  "interpreter": {
   "hash": "11be96cd66cc6158ef28c9199d1b130cb863f8989625f9e6c22aa2fe6de890cf"
  },
  "kernelspec": {
   "display_name": "Python 3 (ipykernel)",
   "language": "python",
   "name": "python3"
  },
  "language_info": {
   "codemirror_mode": {
    "name": "ipython",
    "version": 3
   },
   "file_extension": ".py",
   "mimetype": "text/x-python",
   "name": "python",
   "nbconvert_exporter": "python",
   "pygments_lexer": "ipython3",
   "version": "3.9.12"
  }
 },
 "nbformat": 4,
 "nbformat_minor": 2
}
